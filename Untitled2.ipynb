{
  "nbformat": 4,
  "nbformat_minor": 0,
  "metadata": {
    "colab": {
      "provenance": []
    },
    "kernelspec": {
      "name": "python3",
      "display_name": "Python 3"
    },
    "language_info": {
      "name": "python"
    }
  },
  "cells": [
    {
      "cell_type": "code",
      "source": [
        "l1=[]\n",
        "l2=[]\n",
        "d=dict(zip(l1,l2))\n",
        "d\n",
        "print(d.items())"
      ],
      "metadata": {
        "id": "bgO8ahYQ07Qv"
      },
      "execution_count": null,
      "outputs": []
    },
    {
      "cell_type": "code",
      "source": [],
      "metadata": {
        "id": "rqfeFvBi16mU"
      },
      "execution_count": null,
      "outputs": []
    },
    {
      "cell_type": "code",
      "source": [
        "chaves=[]\n",
        "valores=[]\n",
        "obs=[]\n",
        "while True:\n",
        "    r=int(input('Digite 1 para adicionar informações! \\n Digite 2 para finalizar! \\n '))\n",
        "    if r == 2:\n",
        "        d=dict(zip(chaves,valores))\n",
        "        break\n",
        "        \n",
        "    elif r == 1:\n",
        "        while True:\n",
        "            pu=str(input('Digite a pergunta que foi feita! \\n')).lower()\n",
        "            ru=str(input('Digite a resposta qu foi dada! \\n')).lower()\n",
        "            cont = str(input('Continua?')).lower()\n",
        "            chaves.append(pu)\n",
        "            valores.append(ru)\n",
        "            if cont == 'não' or cont == 'nao' or cont  == 'n':\n",
        "                break         \n",
        "\n",
        "while True:\n",
        "    acoes = str(input('Ações complementares \\n'))\n",
        "    if 'pesq' in acoes:\n",
        "        sn=str(input('Você quer pesquisar um item?')).lower()\n",
        "        if 's' in sn:\n",
        "            p=str(input('Digite a sua pesquisa! \\n')).lower()\n",
        "            if p in d:\n",
        "                print(f'{d.get(p)} foi encontrado')\n",
        "            else:\n",
        "                print(f'{p} não foi encontrado')\n",
        "    elif 'edit' in acoes:\n",
        "        sn=str(input('Você quer editar um item?')).lower()\n",
        "        if 's' in sn:\n",
        "            p=str(input('Informe a chave do que deseja editar \\n')).lower()\n",
        "            if p in d:\n",
        "                d[p]=input('Informe o novo valor! \\n')\n",
        "                print(f'{p} foi atualizado por {d[p] }')                                               \n",
        "            else:\n",
        "                print('Não encontrado.')\n",
        "    elif 'adic' in acoes:\n",
        "        sn=str(input('Você quer adicionar um novo campo?')).lower()\n",
        "        if 's'in sn:\n",
        "            motivo = str(input('Informe o motivo da adição de um novo campo \\n'))\n",
        "            obsAdc=tuple(motivo)\n",
        "            obs.append(obsAdc)\n",
        "            p=str(input('Informe a chave a ser adicionada \\n'))\n",
        "            d[p]=str(input('Informe o valor a ser adicionado \\n'))\n",
        "            v=str(input('Deseja visualizar as informações aramazenadas?')).lower()\n",
        "            if 's' in v:\n",
        "                print(d)\n",
        "    elif 'exclu' in acoes:\n",
        "        sn=str(input('Você quer excluir um item?')).lower()\n",
        "        if 's' in sn:\n",
        "            motivo = str(input('Informe o motivo da exclusão de um novo campo \\n'))\n",
        "            obsExc=tuple(motivo)\n",
        "            obs.append(obsExc)\n",
        "            p=str(input('Informe a chave que deseja excluir /n')).lower()\n",
        "            if p in d:\n",
        "                r=input('Deseja mesmo excluir esse par de informação?').lower()\n",
        "                if 's' in r:\n",
        "                    d.pop(p)\n",
        "    elif 'list' in acoes:\n",
        "        print(d)\n",
        "    elif 'he' in acoes:\n",
        "        p=str(input('As ações disponíveis são: \\n Pesquisar, editar, excluir, adicionar, listar, obs (para ums lista de observações) e sair. \\n Deseja continuar? \\n')).lower()\n",
        "    elif 'sai' in acoes:\n",
        "        r=input('Deseja sair da aplicação?').lower()\n",
        "        if 's' in r:\n",
        "            break\n",
        "    elif 'obs' in acoes:\n",
        "        if len(obs) == 0:\n",
        "            print('Sem observações para visualizar')\n",
        "        else:\n",
        "            print(obs)        \n",
        "    else:\n",
        "        print('Você precisa escolher uma opção válida ou HELP para ajuda')  \n"
      ],
      "metadata": {
        "id": "nG3J8btv280u"
      },
      "execution_count": null,
      "outputs": []
    }
  ]
}